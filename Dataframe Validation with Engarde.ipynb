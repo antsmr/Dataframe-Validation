{
 "cells": [
  {
   "cell_type": "markdown",
   "metadata": {},
   "source": [
    "## DataFrame Validation with Engarde\n",
    "\n",
    "In this notebook, we'll take a look at how to validate data within `pandas.DataFrame` objects. [Engarde](https://github.com/TomAugspurger/engarde) is a library created by Tom Augspurger, which allows you to write both function decorators or utilize built-in functions to test your DataFrame with specific validation rules or definitions."
   ]
  },
  {
   "cell_type": "code",
   "execution_count": null,
   "metadata": {},
   "outputs": [],
   "source": [
    "import pandas as pd\n",
    "import engarde.decorators as ed\n",
    "from datetime import datetime"
   ]
  },
  {
   "cell_type": "code",
   "execution_count": null,
   "metadata": {
    "scrolled": true
   },
   "outputs": [],
   "source": [
    "sales = pd.read_csv('data/sales_data_duped_with_nulls.csv')"
   ]
  },
  {
   "cell_type": "markdown",
   "metadata": {},
   "source": [
    "## Data Quality Check"
   ]
  },
  {
   "cell_type": "code",
   "execution_count": null,
   "metadata": {},
   "outputs": [],
   "source": [
    "sales.head()"
   ]
  },
  {
   "cell_type": "code",
   "execution_count": null,
   "metadata": {},
   "outputs": [],
   "source": [
    "sales.dtypes"
   ]
  },
  {
   "cell_type": "markdown",
   "metadata": {},
   "source": [
    "### Engarde lets us track datatypes. Lets define what datatypes we expect our data to contain."
   ]
  },
  {
   "cell_type": "code",
   "execution_count": null,
   "metadata": {},
   "outputs": [],
   "source": [
    "new_dtypes = {\n",
    "    'timestamp': 'datetime64[ns]',\n",
    "    'city': object,\n",
    "    'store_id': int,\n",
    "    'sale_number': float,\n",
    "    'sale_amount': float,\n",
    "    'associate': object\n",
    "}"
   ]
  },
  {
   "cell_type": "markdown",
   "metadata": {},
   "source": [
    "#### we will check that our Dataframe (production data for example) contains the data types we expect\n",
    "#### as well as that it contains exactly 6 columns (None for rows means we don't care how many rows we get)"
   ]
  },
  {
   "cell_type": "code",
   "execution_count": null,
   "metadata": {},
   "outputs": [],
   "source": [
    "@ed.has_dtypes(new_dtypes)\n",
    "@ed.is_shape((None, 6))\n",
    "def update_dtypes(sales):\n",
    "    sales['timestamp'] = sales.timestamp.map(lambda x: datetime.strptime(x, '%Y-%m-%dT%H:%M:%S'))\n",
    "    \n",
    "    return sales"
   ]
  },
  {
   "cell_type": "code",
   "execution_count": null,
   "metadata": {},
   "outputs": [],
   "source": [
    "sales = update_dtypes(sales)"
   ]
  },
  {
   "cell_type": "code",
   "execution_count": null,
   "metadata": {},
   "outputs": [],
   "source": [
    "sales.dtypes"
   ]
  },
  {
   "cell_type": "markdown",
   "metadata": {},
   "source": [
    "### we did not get an exception which means that our requirements were met"
   ]
  },
  {
   "cell_type": "markdown",
   "metadata": {},
   "source": [
    "## Now we want to remove poor quality data"
   ]
  },
  {
   "cell_type": "markdown",
   "metadata": {},
   "source": [
    "we remove duplicates and null values and then make sure that no values are missing using none_missing"
   ]
  },
  {
   "cell_type": "code",
   "execution_count": null,
   "metadata": {},
   "outputs": [],
   "source": [
    "@ed.has_dtypes(new_dtypes)\n",
    "@ed.is_shape((None, 6))\n",
    "@ed.none_missing()\n",
    "def remove_poor_quality_data(sales):\n",
    "    sales = sales.drop_duplicates()\n",
    "    sales = sales.dropna(subset=['sale_amount', 'store_id', 'sale_number', \n",
    "                                 'city', 'associate'])\n",
    "    return sales"
   ]
  },
  {
   "cell_type": "code",
   "execution_count": null,
   "metadata": {},
   "outputs": [],
   "source": [
    "sales = remove_poor_quality_data(sales)"
   ]
  },
  {
   "cell_type": "markdown",
   "metadata": {},
   "source": [
    "Again, we get no errors and we can move on"
   ]
  },
  {
   "cell_type": "markdown",
   "metadata": {},
   "source": [
    "Now, we add some computational columns:"
   ]
  },
  {
   "cell_type": "code",
   "execution_count": null,
   "metadata": {},
   "outputs": [],
   "source": [
    "final_types = new_dtypes.copy()\n",
    "final_types.update({\n",
    "    'store_total': float,\n",
    "    'associate_total': float\n",
    "})"
   ]
  },
  {
   "cell_type": "code",
   "execution_count": null,
   "metadata": {},
   "outputs": [],
   "source": [
    "@ed.has_dtypes(final_types)\n",
    "@ed.none_missing()\n",
    "@ed.unique_index()\n",
    "@ed.is_shape((None, 8))\n",
    "def calculate_store_sales(sales):\n",
    "    sales['store_total'] = sales.groupby('store_id').transform(sum)['sale_amount']\n",
    "    sales['associate_total'] = sales.groupby('associate').transform(sum)['sale_amount']\n",
    "    return sales"
   ]
  },
  {
   "cell_type": "code",
   "execution_count": null,
   "metadata": {},
   "outputs": [],
   "source": [
    "sales = calculate_store_sales(sales)"
   ]
  },
  {
   "cell_type": "markdown",
   "metadata": {},
   "source": [
    "## Lets fix the above error"
   ]
  },
  {
   "cell_type": "code",
   "execution_count": null,
   "metadata": {},
   "outputs": [],
   "source": [
    "@ed.has_dtypes(final_types)\n",
    "@ed.none_missing()\n",
    "def calculate_store_sales(sales):\n",
    "    sales['store_total'] = sales.groupby('store_id').transform(sum)['sale_amount']\n",
    "    sales['associate_total'] = sales.groupby('associate').transform(sum)['sale_amount']\n",
    "\n",
    "    sales['store_total'] = pd.to_numeric(sales['store_total'])\n",
    "    sales['associate_total'] = pd.to_numeric(sales['associate_total'])\n",
    "    return sales\n"
   ]
  },
  {
   "cell_type": "code",
   "execution_count": null,
   "metadata": {},
   "outputs": [],
   "source": [
    "sales = calculate_store_sales(sales)"
   ]
  },
  {
   "cell_type": "code",
   "execution_count": null,
   "metadata": {},
   "outputs": [],
   "source": [
    "sales.dtypes"
   ]
  },
  {
   "cell_type": "markdown",
   "metadata": {},
   "source": [
    "### Great! Error fixed. Now let's add a new constraint:"
   ]
  },
  {
   "cell_type": "code",
   "execution_count": null,
   "metadata": {},
   "outputs": [],
   "source": [
    "@ed.has_dtypes(final_types)\n",
    "@ed.none_missing()\n",
    "@ed.within_range({'sale_amount': (-1550, 1550)})\n",
    "@ed.is_shape((None, 8))\n",
    "def calculate_store_sales(sales):\n",
    "    sales['store_total'] = sales.groupby('store_id').transform(sum)['sale_amount']\n",
    "    sales['associate_total'] = sales.groupby('associate').transform(sum)['sale_amount']\n",
    "\n",
    "    sales['store_total'] = pd.to_numeric(sales['store_total'])\n",
    "    sales['associate_total'] = pd.to_numeric(sales['associate_total'])\n",
    "    return sales\n"
   ]
  },
  {
   "cell_type": "code",
   "execution_count": null,
   "metadata": {},
   "outputs": [],
   "source": [
    "sales = calculate_store_sales(sales)"
   ]
  },
  {
   "cell_type": "code",
   "execution_count": null,
   "metadata": {},
   "outputs": [],
   "source": [
    "sales.where((sales['sale_amount']>1550) | (sales['sale_amount']<-1550)).dropna()"
   ]
  },
  {
   "cell_type": "markdown",
   "metadata": {},
   "source": [
    "#### Now we need to ask ourselves:\n",
    "What is the reason for these errors?\n",
    "And then => decide how to handle them."
   ]
  },
  {
   "cell_type": "code",
   "execution_count": null,
   "metadata": {},
   "outputs": [],
   "source": []
  }
 ],
 "metadata": {
  "kernelspec": {
   "display_name": "Python 3",
   "language": "python",
   "name": "python3"
  },
  "language_info": {
   "codemirror_mode": {
    "name": "ipython",
    "version": 3
   },
   "file_extension": ".py",
   "mimetype": "text/x-python",
   "name": "python",
   "nbconvert_exporter": "python",
   "pygments_lexer": "ipython3",
   "version": "3.6.4"
  }
 },
 "nbformat": 4,
 "nbformat_minor": 2
}
