{
 "cells": [
  {
   "cell_type": "markdown",
   "metadata": {},
   "source": [
    "## Data Validation with Voluptuous\n",
    "\n",
    "In this notebook, we'll use [Voluptuous](https://github.com/alecthomas/voluptuous) to define schemas for our data.  We can then use schema validation exceptions to either mark, set aside or remove unclean / invalid data. "
   ]
  },
  {
   "cell_type": "code",
   "execution_count": null,
   "metadata": {},
   "outputs": [],
   "source": [
    "import logging\n",
    "import pandas as pd\n",
    "from datetime import datetime\n",
    "from voluptuous import Schema, Required, Range, All, ALLOW_EXTRA\n",
    "from voluptuous.error import MultipleInvalid, Invalid"
   ]
  },
  {
   "cell_type": "code",
   "execution_count": null,
   "metadata": {},
   "outputs": [],
   "source": [
    "# Voluptuous uses logging to display messages.\n",
    "logger = logging.getLogger(0)\n",
    "logger.setLevel(logging.WARNING)"
   ]
  },
  {
   "cell_type": "code",
   "execution_count": null,
   "metadata": {},
   "outputs": [],
   "source": [
    "sales = pd.read_csv('data/sales_data.csv')"
   ]
  },
  {
   "cell_type": "markdown",
   "metadata": {},
   "source": [
    "### Data Quality Check"
   ]
  },
  {
   "cell_type": "code",
   "execution_count": null,
   "metadata": {},
   "outputs": [],
   "source": [
    "sales.head()"
   ]
  },
  {
   "cell_type": "code",
   "execution_count": null,
   "metadata": {},
   "outputs": [],
   "source": [
    "sales.dtypes"
   ]
  },
  {
   "cell_type": "markdown",
   "metadata": {},
   "source": [
    "## Defining our first schema"
   ]
  },
  {
   "cell_type": "markdown",
   "metadata": {},
   "source": [
    "This method transforms the data set into a json format so that Voluptuous will be able to work with it and validating against the schema."
   ]
  },
  {
   "cell_type": "code",
   "execution_count": null,
   "metadata": {},
   "outputs": [],
   "source": [
    "def validate_sales_dataframe(sales_df, field_to_validate):\n",
    "    error_count = 0\n",
    "    for s_id, sale in sales_df.T.to_dict().items():\n",
    "        try:\n",
    "            schema(sale)\n",
    "        except MultipleInvalid as e:\n",
    "            logging.warning(f'issue with sale: {s_id} ({sale[field_to_validate]}) - {e}')\n",
    "            error_count += 1\n",
    "    return error_count"
   ]
  },
  {
   "cell_type": "markdown",
   "metadata": {},
   "source": [
    "In this case we only care about validating the 'sale_amount' field.\n",
    "Since there are other fields in the data set that we currently do not validate,\n",
    "we mark extra=ALLOW_EXTRA."
   ]
  },
  {
   "cell_type": "code",
   "execution_count": null,
   "metadata": {},
   "outputs": [],
   "source": [
    "schema = Schema({\n",
    "    Required('sale_amount'): All(int, Range(min=2.50, max=1550)),\n",
    "}, extra=ALLOW_EXTRA)"
   ]
  },
  {
   "cell_type": "code",
   "execution_count": null,
   "metadata": {},
   "outputs": [],
   "source": [
    "error_count = validate_sales_dataframe(sales,'sale_amount')\n",
    "print(f'Total Errors in DataFrame: {error_count}')"
   ]
  },
  {
   "cell_type": "code",
   "execution_count": null,
   "metadata": {},
   "outputs": [],
   "source": [
    "sales.shape"
   ]
  },
  {
   "cell_type": "code",
   "execution_count": null,
   "metadata": {},
   "outputs": [],
   "source": [
    "schema = Schema({\n",
    "    Required('sale_amount'): All(int, Range(min=-1550, max=1550)),\n",
    "}, extra=ALLOW_EXTRA)"
   ]
  },
  {
   "cell_type": "code",
   "execution_count": null,
   "metadata": {},
   "outputs": [],
   "source": [
    "error_count = validate_sales_dataframe(sales,'sale_amount')\n",
    "print(f'Total Errors in DataFrame: {error_count}')"
   ]
  },
  {
   "cell_type": "markdown",
   "metadata": {},
   "source": [
    "### Now we need to ask ourselves: What is the reason for these errors?\n",
    "- Do we have an improperly defined schema?\n",
    "- Do we expect to have negative values in our data?\n",
    "- Why do we see higher **sale_amount** values? Fraud? New products?\n",
    "- What should we do with our schema and our failing data points?"
   ]
  },
  {
   "cell_type": "markdown",
   "metadata": {
    "collapsed": true
   },
   "source": [
    "## Adding a custom Validation Case"
   ]
  },
  {
   "cell_type": "markdown",
   "metadata": {},
   "source": [
    "### This can be used to create some kind of common utility valdiators which are relevant to a specific business logic."
   ]
  },
  {
   "cell_type": "markdown",
   "metadata": {},
   "source": [
    "In this case we define a simple date format validator:"
   ]
  },
  {
   "cell_type": "code",
   "execution_count": null,
   "metadata": {},
   "outputs": [],
   "source": [
    "def ValidDate(fmt='%Y-%m-%dT%H:%M:%S'):\n",
    "    return lambda v: datetime.strptime(v, fmt)"
   ]
  },
  {
   "cell_type": "markdown",
   "metadata": {},
   "source": [
    "And the appropriate Schema:"
   ]
  },
  {
   "cell_type": "code",
   "execution_count": null,
   "metadata": {},
   "outputs": [],
   "source": [
    "schema = Schema({\n",
    "    Required('timestamp'): All(ValidDate()),\n",
    "}, extra=ALLOW_EXTRA)"
   ]
  },
  {
   "cell_type": "markdown",
   "metadata": {},
   "source": [
    "Let's rerun our validation function. This time, let's validate the timestamp format:"
   ]
  },
  {
   "cell_type": "code",
   "execution_count": null,
   "metadata": {},
   "outputs": [],
   "source": [
    "error_count = validate_sales_dataframe(sales,'timestamp')\n",
    "print(f'Total Errors in DataFrame: {error_count}')"
   ]
  },
  {
   "cell_type": "markdown",
   "metadata": {},
   "source": [
    "## So we have valid date structures, what about actual valid dates?"
   ]
  },
  {
   "cell_type": "code",
   "execution_count": null,
   "metadata": {},
   "outputs": [],
   "source": [
    "def ValidDate(fmt='%Y-%m-%dT%H:%M:%S'):\n",
    "    def validation_func(v):\n",
    "        try:\n",
    "            assert datetime.strptime(v, fmt) <= datetime.now()\n",
    "        except AssertionError:\n",
    "            raise Invalid(f'date is in the future! {v}')\n",
    "    return validation_func"
   ]
  },
  {
   "cell_type": "code",
   "execution_count": null,
   "metadata": {},
   "outputs": [],
   "source": [
    "schema = Schema({\n",
    "    Required('timestamp'): All(ValidDate()),\n",
    "}, extra=ALLOW_EXTRA)"
   ]
  },
  {
   "cell_type": "code",
   "execution_count": null,
   "metadata": {},
   "outputs": [],
   "source": [
    "error_count = validate_sales_dataframe(sales,'timestamp')\n",
    "print(f'Total Errors in DataFrame: {error_count}')"
   ]
  },
  {
   "cell_type": "markdown",
   "metadata": {
    "collapsed": true
   },
   "source": [
    "## What could be the reasons for future dates?"
   ]
  },
  {
   "cell_type": "markdown",
   "metadata": {
    "collapsed": true
   },
   "source": [
    "- presails\n",
    "- incomplete data with invalid details\n",
    "\n",
    "Now we need to decide what to do with these errors"
   ]
  },
  {
   "cell_type": "code",
   "execution_count": null,
   "metadata": {},
   "outputs": [],
   "source": []
  }
 ],
 "metadata": {
  "anaconda-cloud": {},
  "kernelspec": {
   "display_name": "Python 3",
   "language": "python",
   "name": "python3"
  },
  "language_info": {
   "codemirror_mode": {
    "name": "ipython",
    "version": 3
   },
   "file_extension": ".py",
   "mimetype": "text/x-python",
   "name": "python",
   "nbconvert_exporter": "python",
   "pygments_lexer": "ipython3",
   "version": "3.6.4"
  }
 },
 "nbformat": 4,
 "nbformat_minor": 2
}
